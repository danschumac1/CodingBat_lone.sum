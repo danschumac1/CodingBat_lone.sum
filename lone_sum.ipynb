{
 "cells": [
  {
   "cell_type": "markdown",
   "id": "26a8da64",
   "metadata": {},
   "source": [
    "# Logic-2 > lone_sum"
   ]
  },
  {
   "cell_type": "markdown",
   "id": "161ede87",
   "metadata": {},
   "source": [
    "\n",
    "Given 3 int values, a b c, return their sum. However, if one of the values is the same as another of the values, it does not count towards the sum.\n",
    "\n",
    "\n",
    "lone_sum(1, 2, 3) → 6\n",
    "\n",
    "lone_sum(3, 2, 3) → 2\n",
    "\n",
    "lone_sum(3, 3, 3) → 0"
   ]
  },
  {
   "cell_type": "code",
   "execution_count": 1,
   "id": "a596f7d6",
   "metadata": {},
   "outputs": [],
   "source": [
    "def lone_sum(a, b, c):\n",
    "  mylist = []\n",
    "  mylist.append(a)\n",
    "  mylist.append(b)\n",
    "  mylist.append(c)\n",
    "  \n",
    "  if a == b == c:\n",
    "    return 0\n",
    "  \n",
    "  elif a==b:\n",
    "    return c\n",
    "    \n",
    "  elif a==c:\n",
    "    return b\n",
    "    \n",
    "  elif b==c:\n",
    "    return a\n",
    "    \n",
    "  else:\n",
    "    return sum(mylist)"
   ]
  }
 ],
 "metadata": {
  "kernelspec": {
   "display_name": "Python 3 (ipykernel)",
   "language": "python",
   "name": "python3"
  },
  "language_info": {
   "codemirror_mode": {
    "name": "ipython",
    "version": 3
   },
   "file_extension": ".py",
   "mimetype": "text/x-python",
   "name": "python",
   "nbconvert_exporter": "python",
   "pygments_lexer": "ipython3",
   "version": "3.9.12"
  }
 },
 "nbformat": 4,
 "nbformat_minor": 5
}
